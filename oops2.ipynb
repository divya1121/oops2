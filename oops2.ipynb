{
 "cells": [
  {
   "cell_type": "code",
   "execution_count": null,
   "id": "e4de5e87-18de-4c55-a478-775fc79fe6bd",
   "metadata": {},
   "outputs": [],
   "source": [
    "# Q1. What is Abstraction in OOps? Explain with an example."
   ]
  },
  {
   "cell_type": "code",
   "execution_count": null,
   "id": "a4790df2-6e69-4410-8ee7-88bd24212b5c",
   "metadata": {},
   "outputs": [],
   "source": [
    "Abstraction in oops is used to hide the unnecessary details and showing only the necessary information to the user.\n",
    "\n",
    "Example:\n",
    "    real life example of abstraction is ATM .\n",
    "    The person will insert the card ,enter pin and ATM will deliver the cash.But in backend which process is going \n",
    "    on is never showing or display to the user."
   ]
  },
  {
   "cell_type": "code",
   "execution_count": null,
   "id": "c32cc461-7014-4d03-aad6-8887c7441480",
   "metadata": {},
   "outputs": [],
   "source": [
    "# Q2. Differentiate between Abstraction and Encapsulation. Explain with an example."
   ]
  },
  {
   "cell_type": "code",
   "execution_count": null,
   "id": "23f91533-4294-4eba-8ab0-f1706d62a91d",
   "metadata": {},
   "outputs": [],
   "source": [
    "Abstraction:\n",
    "    Abstraction is the process of hiding the complex implementation details \n",
    "    and showing only the necessary features of an object.\n",
    " ex:\n",
    "    lets consider an example of car.User start the car by using key.But how the actual work will done it is \n",
    "    aware from this person.\n",
    "    hey don't need to know how the engine or braking system works internally. \n",
    "    \n",
    "Encapsulation:\n",
    "    It hides the internal state of an object from the outside world\n",
    "    and only exposes the necessary functionalities through methods.\n",
    " ex:\n",
    "     encapsulation ensures that the inner workings of the car, such as the engine, \n",
    "    transmission, and braking system, are encapsulated within their respective classes. \n",
    "    Shortly says that encapsulete like capsule."
   ]
  },
  {
   "cell_type": "code",
   "execution_count": null,
   "id": "c5e5bc64-70b4-434e-93e3-00b0cd5ba5ec",
   "metadata": {},
   "outputs": [],
   "source": [
    "# Q3. What is abc module in python? Why is it used?"
   ]
  },
  {
   "cell_type": "code",
   "execution_count": null,
   "id": "ed193e6e-d833-47c7-a963-f8cb3e9fd618",
   "metadata": {},
   "outputs": [],
   "source": [
    "The abc module in Python stands for \"Abstract Base Classes\". \n",
    "It provides a way to define abstract base classes in Python and\n",
    "enforce the implementation of certain methods by subclasses.\n",
    "\n",
    "The main purpose of the abc module is to facilitate abstraction and\n",
    "ensure a certain level of interface consistency across subclasses."
   ]
  },
  {
   "cell_type": "code",
   "execution_count": null,
   "id": "75138f15-c569-46a3-afe8-916e4dc8e765",
   "metadata": {},
   "outputs": [],
   "source": [
    "# Q4. How can we achieve data abstraction?"
   ]
  },
  {
   "cell_type": "code",
   "execution_count": null,
   "id": "7522ee1d-5877-471a-aa5f-fa4040fb5aba",
   "metadata": {},
   "outputs": [],
   "source": []
  },
  {
   "cell_type": "code",
   "execution_count": null,
   "id": "419f50df-9982-4968-ad4f-564c640188c7",
   "metadata": {},
   "outputs": [],
   "source": [
    "Data abstraction in programming refers to the concept of hiding the implementation details of data\n",
    "and showing only the essential features to the outside world.\n",
    "It allows users to interact with data through well-defined interfaces without needing to understand\n",
    "the underlying complexities. \n",
    "by using:\n",
    "    classes and objects.\n"
   ]
  },
  {
   "cell_type": "code",
   "execution_count": null,
   "id": "76040140-1560-4e5e-b9b9-8c85fb1d1c0d",
   "metadata": {},
   "outputs": [],
   "source": [
    "# Q5. Can we create an instance of an abstract class? Explain your answer."
   ]
  },
  {
   "cell_type": "code",
   "execution_count": null,
   "id": "639b6829-1330-4a73-a094-863bd4e7aa25",
   "metadata": {},
   "outputs": [],
   "source": [
    "\n",
    "In Python, we cannot create an instance of an abstract class directly. \n"
   ]
  }
 ],
 "metadata": {
  "kernelspec": {
   "display_name": "Python 3 (ipykernel)",
   "language": "python",
   "name": "python3"
  },
  "language_info": {
   "codemirror_mode": {
    "name": "ipython",
    "version": 3
   },
   "file_extension": ".py",
   "mimetype": "text/x-python",
   "name": "python",
   "nbconvert_exporter": "python",
   "pygments_lexer": "ipython3",
   "version": "3.10.8"
  }
 },
 "nbformat": 4,
 "nbformat_minor": 5
}
